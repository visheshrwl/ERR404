{
 "cells": [
  {
   "cell_type": "code",
   "execution_count": 1,
   "id": "2f45838f",
   "metadata": {},
   "outputs": [
    {
     "name": "stdout",
     "output_type": "stream",
     "text": [
      "0           maths\n",
      "1      electrical\n",
      "2       chemistry\n",
      "3       chemistry\n",
      "4         physics\n",
      "          ...    \n",
      "120    electrical\n",
      "121      computer\n",
      "122    electrical\n",
      "123     chemistry\n",
      "124     mechanics\n",
      "Length: 125, dtype: object\n"
     ]
    }
   ],
   "source": [
    "import pandas as pd\n",
    "\n",
    "# Define a sample DataFrame with student data and marks\n",
    "\n",
    "\n",
    "# -----------------------------------------SAMPLE DATA NOT FOR USE---------------------------------------\n",
    "# data2 = {\n",
    "#     \"student_id\": [1, 2, 3, 4, 5],\n",
    "#     \"name\": [\"Alice\", \"Bob\", \"Charlie\", \"Dave\", \"Eve\"],\n",
    "#     \"email\": [\"alice@example.com\", \"bob@example.com\", \"charlie@example.com\", \"dave@example.com\", \"eve@example.com\"],\n",
    "#     \"computer\": [60, 70, 80, 90, 65],\n",
    "#     \"mechanics\": [80, 75, 70, 60, 85],\n",
    "#     \"maths\": [90, 80, 70, 60, 50],\n",
    "#     \"English\": [70, 75, 80, 85, 90],\n",
    "#     \"electrical\": [65, 60, 55, 70, 75],\n",
    "#     \"physics\": [85, 90, 95, 80, 75],\n",
    "#     \"chemistry\": [75, 80, 85, 90, 95]\n",
    "# \n",
    "# }-------------------------------------------------------------------------------------------------------\n",
    "# \n",
    "data=pd.read_csv(\"Book1.csv\")\n",
    "df = pd.DataFrame(data)\n",
    "\n",
    "# Find the subject with the minimum marks for each student\n",
    "subjects = [\"computer\", \"mechanics\", \"maths\", \"English\", \"electrical\", \"physics\", \"chemistry\"]\n",
    "\n",
    "\n",
    "print(df[subjects].idxmin(axis=1))\n"
   ]
  },
  {
   "cell_type": "code",
   "execution_count": null,
   "id": "45518822",
   "metadata": {},
   "outputs": [],
   "source": []
  }
 ],
 "metadata": {
  "kernelspec": {
   "display_name": "Python 3 (ipykernel)",
   "language": "python",
   "name": "python3"
  },
  "language_info": {
   "codemirror_mode": {
    "name": "ipython",
    "version": 3
   },
   "file_extension": ".py",
   "mimetype": "text/x-python",
   "name": "python",
   "nbconvert_exporter": "python",
   "pygments_lexer": "ipython3",
   "version": "3.11.2"
  }
 },
 "nbformat": 4,
 "nbformat_minor": 5
}
